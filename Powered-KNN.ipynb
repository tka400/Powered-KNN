{
 "cells": [
  {
   "cell_type": "markdown",
   "metadata": {},
   "source": [
    "## Заряженный методами KNN"
   ]
  },
  {
   "cell_type": "code",
   "execution_count": 57,
   "metadata": {},
   "outputs": [],
   "source": [
    "import numpy as np\n",
    "import pandas as pd\n",
    "import seaborn as sns\n",
    "import matplotlib.pyplot as plt\n",
    "\n",
    "from tqdm import tqdm as tq\n",
    "from sklearn import datasets\n",
    "from sklearn.model_selection import train_test_split"
   ]
  },
  {
   "cell_type": "code",
   "execution_count": 64,
   "metadata": {
    "run_control": {
     "marked": false
    }
   },
   "outputs": [],
   "source": [
    "X, y = datasets.make_classification(n_samples=1000, n_classes=3, n_informative=3,\n",
    "                                    n_features=10)\n",
    "\n",
    "X_train, X_test, y_train, y_train = train_test_split(X, y)"
   ]
  },
  {
   "cell_type": "code",
   "execution_count": 65,
   "metadata": {
    "run_control": {
     "marked": false
    }
   },
   "outputs": [],
   "source": [
    "class KNN:\n",
    "    def __init__(self, k=3, method=\"std\"):\n",
    "        self.k = k\n",
    "        self.method = method\n",
    "        self.task = None\n",
    "        self.last_indexes = []\n",
    "\n",
    "    def change_neihgbors_direction(self):\n",
    "        # метод для смены класса наблюдению в случае зацикливания змейки\n",
    "        index = self.last_indexes[random.randint(0, self.k - 1)]\n",
    "        choice = self.y_train[index]\n",
    "\n",
    "        while choice == self.y_train[index]:\n",
    "            choice = random.choice([1, 2, 3])\n",
    "\n",
    "        self.y_train[index] = choice\n",
    "\n",
    "    def fit(self, X_train, y_train):\n",
    "        self.X_train = X_train\n",
    "        self.y_train = y_train\n",
    "        self.find_task_type(y_train)\n",
    "            \n",
    "    def find_task_type(self, y_train):\n",
    "        # метод распознавания типа решаемой задачи - классификация или регрессия\n",
    "        self.task = \"regression\"\n",
    "        if (y_train == y_train.astype(int)).sum() / len(y_train):\n",
    "            self.task = \"classification\"\n",
    "\n",
    "    def distance(self, x_test, x_train):\n",
    "        return np.sqrt(np.sum((x_test - x_train)**2))\n",
    "\n",
    "    def predict(self, X_test):\n",
    "        labels = [self.find_labels(x_test) for x_test in X_test]\n",
    "        return np.array(labels)\n",
    "\n",
    "    def find_labels(self, x_test):\n",
    "        distances = [self.distance(x_test, x_train) for x_train in self.X_train]\n",
    "        k_nearest = np.argsort(distances)[:self.k]\n",
    "        self.last_indexes = k_nearest\n",
    "        k_labels = [self.y_train[i] for i in k_nearest]\n",
    "\n",
    "        if self.task == \"regression\":\n",
    "            return np.sum(k_labels) / self.k\n",
    "\n",
    "        if self.method == \"std\":\n",
    "            return self.most_common(k_labels)\n",
    "\n",
    "        max_ = max(k_nearest)\n",
    "        alpha = 0.1\n",
    "\n",
    "        k_nearest = [1 / ((i + max_ * alpha) / max_) for i in k_nearest]\n",
    "\n",
    "        a = [i for i in range(int(max(k_labels) + 1))]\n",
    "        summ = [0] * int(max(k_labels) + 1)\n",
    "\n",
    "        for index, value in enumerate(k_nearest):\n",
    "            summ[int(k_labels[index])] += value\n",
    "\n",
    "        return a[np.argsort(summ)[-1]]\n",
    "\n",
    "    def most_common(self, k_labels):\n",
    "        a = tuple(set(k_labels))\n",
    "        most_common = [k_labels.count(i) for i in a]\n",
    "        index = np.argsort(most_common)[-1]\n",
    "\n",
    "        if len(set(most_common)) == 1 or len(most_common) == len(k_labels):\n",
    "            return random.choice(a)\n",
    "\n",
    "        return a[index]\n",
    "    \n",
    "    # методы проверки качества моделей для обоих типов задач\n",
    "    def score(self, predicted, y_test):\n",
    "        return (predicted == y_test).sum() / len(y_test)\n",
    "\n",
    "    def r2(self, predicted, y_test):\n",
    "        return 1 - np.sum((predicted - y_test)**2) / np.sum(\n",
    "            (y_test.mean() - y_test)**2)\n",
    "    \n",
    "    # встроенный метод скользящего контроля (кросс валидация по фолдам)\n",
    "    def cv(self, X, y, cv=5, disable=False):\n",
    "        self.find_task_type(y)\n",
    "        \n",
    "        y = np.reshape(y, (len(y), 1))\n",
    "        data = np.concatenate((X, y), axis=1)\n",
    "        np.random.shuffle(data)\n",
    "\n",
    "        data = pd.DataFrame(data)\n",
    "        score = []\n",
    "\n",
    "        for i in tq(range(cv), desc=\"Скользящий контроль: \", disable=disable):\n",
    "            lenght = int(len(y) / cv)\n",
    "\n",
    "            X_test = data.iloc[i * lenght:i * lenght + lenght, :-1]\n",
    "            X_train = data.drop(index=X_test.index).iloc[:, :-1]\n",
    "\n",
    "            y_test = data.iloc[i * lenght:i * lenght + lenght, -1]\n",
    "            y_train = data.drop(index=X_test.index).iloc[:, -1]\n",
    "\n",
    "            clf = KNN(method=\"new\")\n",
    "            clf.fit(np.array(X_train), np.array(y_train))\n",
    "            predicted = clf.predict(np.array(X_test))\n",
    "\n",
    "            if self.task == \"classification\":\n",
    "                score.append(clf.score(predicted, np.array(y_test)))\n",
    "            else:\n",
    "                score.append(clf.r2(predicted, np.array(y_test)))\n",
    "\n",
    "        return np.array(score)\n",
    "    \n",
    "    # метод оценки важности признаков (permutation importance)\n",
    "    def feature_importance(self, X_res, y_res, cv=5):\n",
    "        clf = KNN()\n",
    "        original = clf.cv(X_res, y_res, cv=cv, disable=True).mean()\n",
    "\n",
    "        importance = []\n",
    "\n",
    "        for i in tq(range(X_res.shape[1]), desc=\"Оценка важности признаков\"):\n",
    "            X_new = X_res.copy()\n",
    "            np.random.shuffle(X_new[:, i])\n",
    "\n",
    "            cv = clf.cv(X_new, y_res, cv=5, disable=True)\n",
    "            importance.append(np.mean(cv))\n",
    "\n",
    "        importance = np.array(importance - original)\n",
    "\n",
    "        fig, axs = plt.subplots(figsize=(len(importance), 1))\n",
    "        sns.heatmap(importance[np.newaxis, :], annot=True, fmt='0.2f', ax=axs, cbar=False)\n",
    "        plt.savefig(\"importance.png\")\n",
    "        plt.show()"
   ]
  },
  {
   "cell_type": "markdown",
   "metadata": {},
   "source": [
    "## Скользящий контроль"
   ]
  },
  {
   "cell_type": "code",
   "execution_count": 66,
   "metadata": {},
   "outputs": [
    {
     "name": "stderr",
     "output_type": "stream",
     "text": [
      "Скользящий контроль: 100%|███████████████████████████████████████████████████████████████| 5/5 [00:10<00:00,  2.06s/it]\n"
     ]
    },
    {
     "data": {
      "text/plain": [
       "array([0.75 , 0.725, 0.73 , 0.66 , 0.785])"
      ]
     },
     "execution_count": 66,
     "metadata": {},
     "output_type": "execute_result"
    }
   ],
   "source": [
    "clf = KNN()\n",
    "clf.cv(X, y)"
   ]
  },
  {
   "cell_type": "markdown",
   "metadata": {},
   "source": [
    "## Подбор параметра k"
   ]
  },
  {
   "cell_type": "code",
   "execution_count": 67,
   "metadata": {},
   "outputs": [],
   "source": [
    "score = []\n",
    "neighbors = []\n",
    "\n",
    "for k in range(3, 30, 3):\n",
    "    clf = KNN(k=k)\n",
    "    score.append(clf.cv(X, y, cv=5, disable=True).mean())\n",
    "    neighbors.append(k)"
   ]
  },
  {
   "cell_type": "code",
   "execution_count": 68,
   "metadata": {},
   "outputs": [
    {
     "data": {
      "image/png": "[encoded data removed]",
      "text/plain": [
       "<Figure size 432x288 with 1 Axes>"
      ]
     },
     "metadata": {
      "needs_background": "light"
     },
     "output_type": "display_data"
    }
   ],
   "source": [
    "plt.plot(neighbors, score)\n",
    "plt.ylim(0, 1)\n",
    "plt.xlabel(\"k\")\n",
    "plt.ylabel(\"cv accuracy\")\n",
    "plt.savefig(\"cv_vs_k.png\")\n",
    "plt.show()"
   ]
  },
  {
   "cell_type": "markdown",
   "metadata": {},
   "source": [
    "## Важность признаков"
   ]
  },
  {
   "cell_type": "code",
   "execution_count": 69,
   "metadata": {},
   "outputs": [
    {
     "name": "stderr",
     "output_type": "stream",
     "text": [
      "Оценка важности признаков: 100%|███████████████████████████████████████████████████████| 10/10 [01:44<00:00, 10.47s/it]\n"
     ]
    },
    {
     "data": {
      "image/png": "[encoded data removed]",
      "text/plain": [
       "<Figure size 720x72 with 1 Axes>"
      ]
     },
     "metadata": {
      "needs_background": "light"
     },
     "output_type": "display_data"
    }
   ],
   "source": [
    "clf.feature_importance(X, y, cv=5)"
   ]
  },
  {
   "cell_type": "code",
   "execution_count": null,
   "metadata": {},
   "outputs": [],
   "source": []
  },
  {
   "cell_type": "code",
   "execution_count": null,
   "metadata": {},
   "outputs": [],
   "source": []
  },
  {
   "cell_type": "code",
   "execution_count": null,
   "metadata": {},
   "outputs": [],
   "source": []
  }
 ],
 "metadata": {
  "kernelspec": {
   "display_name": "Python 3",
   "language": "python",
   "name": "python3"
  },
  "language_info": {
   "codemirror_mode": {
    "name": "ipython",
    "version": 3
   },
   "file_extension": ".py",
   "mimetype": "text/x-python",
   "name": "python",
   "nbconvert_exporter": "python",
   "pygments_lexer": "ipython3",
   "version": "3.8.3"
  },
  "varInspector": {
   "cols": {
    "lenName": 16,
    "lenType": 16,
    "lenVar": 40
   },
   "kernels_config": {
    "python": {
     "delete_cmd_postfix": "",
     "delete_cmd_prefix": "del ",
     "library": "var_list.py",
     "varRefreshCmd": "print(var_dic_list())"
    },
    "r": {
     "delete_cmd_postfix": ") ",
     "delete_cmd_prefix": "rm(",
     "library": "var_list.r",
     "varRefreshCmd": "cat(var_dic_list()) "
    }
   },
   "types_to_exclude": [
    "module",
    "function",
    "builtin_function_or_method",
    "instance",
    "_Feature"
   ],
   "window_display": false
  }
 },
 "nbformat": 4,
 "nbformat_minor": 4
}
